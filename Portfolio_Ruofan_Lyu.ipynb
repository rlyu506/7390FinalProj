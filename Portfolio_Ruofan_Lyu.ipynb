{
 "cells": [
  {
   "cell_type": "markdown",
   "metadata": {},
   "source": [
    "# 2018 IAAF World Half Marathon Championship Prediction"
   ]
  },
  {
   "cell_type": "markdown",
   "metadata": {},
   "source": [
    "by Ruofan Lyu (lyu.ru@husky.neu.edu)"
   ]
  },
  {
   "cell_type": "markdown",
   "metadata": {},
   "source": [
    "## Introduction"
   ]
  },
  {
   "cell_type": "markdown",
   "metadata": {},
   "source": [
    "IAAF World Half Marathon Championship will be held in Valencia, Spain this year. It is an annual half marathon competition organized by the International Association of Athletics Federations, generally held every October. \n",
    "\n",
    "Prediction of this competition can provide a foresee to either athlete and audience. For the athletes, they could determine their further training strategy based on the prediction; for the audience, they would be more interested in the game, once the event draws more public attention, it will create more economic and cultural values.\n",
    "\n",
    "This project has mainly two parts of work: web scraping and machine learning modeling."
   ]
  },
  {
   "cell_type": "markdown",
   "metadata": {},
   "source": [
    "## Web Scraping"
   ]
  },
  {
   "cell_type": "markdown",
   "metadata": {},
   "source": [
    "### Imports"
   ]
  },
  {
   "cell_type": "code",
   "execution_count": 1,
   "metadata": {
    "collapsed": true
   },
   "outputs": [],
   "source": [
    "from __future__ import print_function\n",
    "import urllib3 #  pip install -i https://pypi.anaconda.org/pypi/simple urllib3\n",
    "import unicodedata\n",
    "import datetime\n",
    "from bs4 import BeautifulSoup, SoupStrainer, Comment\n",
    "import warnings\n",
    "import requests\n",
    "warnings.filterwarnings('ignore')\n",
    "\n",
    "# Create two lists to store original urls and redirected links\n",
    "urls = []\n",
    "links = []"
   ]
  },
  {
   "cell_type": "markdown",
   "metadata": {},
   "source": [
    "### Get All The Athletes' Profile URLs"
   ]
  },
  {
   "cell_type": "code",
   "execution_count": 2,
   "metadata": {
    "collapsed": true
   },
   "outputs": [],
   "source": [
    "# URL of the atheletes list\n",
    "url = 'https://www.iaaf.org/athletes/search?name=&country=&discipline=half-marathon&gender=men'"
   ]
  },
  {
   "cell_type": "markdown",
   "metadata": {},
   "source": [
    "Create a response based on the http request and get the status of the url."
   ]
  },
  {
   "cell_type": "code",
   "execution_count": 3,
   "metadata": {},
   "outputs": [
    {
     "data": {
      "text/plain": [
       "200"
      ]
     },
     "execution_count": 3,
     "metadata": {},
     "output_type": "execute_result"
    }
   ],
   "source": [
    "http = urllib3.PoolManager()\n",
    "response = http.request('GET',url)\n",
    "response.status"
   ]
  },
  {
   "cell_type": "markdown",
   "metadata": {},
   "source": [
    "Response code 200:  ('OK', 'Request fulfilled, document follows')"
   ]
  },
  {
   "cell_type": "markdown",
   "metadata": {},
   "source": [
    "Create a BeautifulSoup object and call find_all() function to find all the \"a\" tags to get all links in the web page."
   ]
  },
  {
   "cell_type": "code",
   "execution_count": 4,
   "metadata": {
    "collapsed": true
   },
   "outputs": [],
   "source": [
    "soup=BeautifulSoup(response.data, \"lxml\")"
   ]
  },
  {
   "cell_type": "markdown",
   "metadata": {},
   "source": [
    "Loop through all the \"a\" tags in the page and estimate the url to see if it contains partial string like \"/athletes/athlete=\". If so, that means this is an internal link, store it into urls list; if not, drop it."
   ]
  },
  {
   "cell_type": "code",
   "execution_count": 5,
   "metadata": {
    "scrolled": false
   },
   "outputs": [
    {
     "name": "stdout",
     "output_type": "stream",
     "text": [
      "Sample url: https://www.iaaf.org/athletes/athlete=273114\n",
      "Sample url: https://www.iaaf.org/athletes/athlete=325829\n",
      "5773\n"
     ]
    }
   ],
   "source": [
    "for link in soup.find_all('a',href = True):\n",
    "    href = link.get('href')\n",
    "    if \"/athletes/athlete=\" in href:\n",
    "        href = \"https://www.iaaf.org\" + link.get('href')\n",
    "    else:\n",
    "        href = None\n",
    "    if href != None:\n",
    "        urls.append(href)\n",
    "#         print(href)\n",
    "print('Sample url:',urls[0])\n",
    "print('Sample url:',urls[1])\n",
    "print(len(urls))"
   ]
  },
  {
   "cell_type": "markdown",
   "metadata": {},
   "source": [
    "Loop through urls list, use the get() method in requests to get the redirected url(which is eligible to crwaling data) and add them into a new list links[].\n",
    "\n",
    "Note this process may take longer."
   ]
  },
  {
   "cell_type": "code",
   "execution_count": 6,
   "metadata": {
    "scrolled": true
   },
   "outputs": [
    {
     "name": "stdout",
     "output_type": "stream",
     "text": [
      "Sample link: https://www.iaaf.org/athletes/great-britain-ni/mohamud-ibrahim-aadan-273114\n",
      "Sample link: https://www.iaaf.org/athletes/morocco/abden-naser-aamar-325829\n",
      "5773\n"
     ]
    }
   ],
   "source": [
    "# identify user agent to get access to the GET request\n",
    "headers = {'User-Agent':'Mozilla/5.0 (Macintosh; Intel Mac OS X 10_12_6) AppleWebKit/537.36 (KHTML, like Gecko) Chrome/64.0.3282.167 Safari/537.36'}\n",
    "for i in urls:\n",
    "    rs = requests.get(i,headers = headers).url\n",
    "    links.append(rs)\n",
    "print('Sample link:',links[0])\n",
    "print('Sample link:',links[1])\n",
    "print(len(links))"
   ]
  },
  {
   "cell_type": "markdown",
   "metadata": {},
   "source": [
    "Write the urls in links list into a .csv file for further use."
   ]
  },
  {
   "cell_type": "code",
   "execution_count": 7,
   "metadata": {
    "collapsed": true
   },
   "outputs": [],
   "source": [
    "import csv\n",
    "csvfile = 'linkList.csv'\n",
    "\n",
    "with open(csvfile, \"w\") as output:\n",
    "    writer = csv.writer(output, lineterminator='\\n')\n",
    "    for val in links:\n",
    "        writer.writerow([val])"
   ]
  },
  {
   "cell_type": "markdown",
   "metadata": {},
   "source": [
    "### Get All The Athletes' Profile"
   ]
  },
  {
   "cell_type": "code",
   "execution_count": 8,
   "metadata": {
    "collapsed": true
   },
   "outputs": [],
   "source": [
    "# import re package to estimate the formats inside HTML\n",
    "import re\n",
    "urllib3.disable_warnings(urllib3.exceptions.InsecureRequestWarning)"
   ]
  },
  {
   "cell_type": "markdown",
   "metadata": {},
   "source": [
    "Load the links as a pandas dataframe in the file we just created above."
   ]
  },
  {
   "cell_type": "code",
   "execution_count": 9,
   "metadata": {
    "collapsed": true
   },
   "outputs": [],
   "source": [
    "import pandas as pd\n",
    "df = pd.read_csv(\"linkList.csv\", header=None)"
   ]
  },
  {
   "cell_type": "markdown",
   "metadata": {},
   "source": [
    "This is the function to take a url string value and get the returned list from 'Records' and append them into a new list result_total."
   ]
  },
  {
   "cell_type": "code",
   "execution_count": 10,
   "metadata": {
    "collapsed": true
   },
   "outputs": [],
   "source": [
    "import requests\n",
    "\n",
    "def athleteList(url): \n",
    "    result_total = []\n",
    "    if records(url) != None:\n",
    "        #   Add a single record of informaiton to total\n",
    "        result_total.extend(records(url))\n",
    "\n",
    "    return result_total"
   ]
  },
  {
   "cell_type": "markdown",
   "metadata": {},
   "source": [
    "This function is to take an url string and extract the contents in the url based on it's html structure using BeautifulSoup.\n",
    "\n",
    "First, create a response of the url and using soup to find out the disciplines number and the records number under the disciplines. Create a result list to store the records.\n",
    "\n",
    "Then, loop through the number of disciplines. Inside each discipline loop, loop through the number of records in this discipline and crawl the performance, place and date of the record.\n",
    "\n",
    "Third, wrap the performance, place and date of the record with its corresponding discipline, together with the name, date of birth and IAAF code on the page, into a complete single record, store these features into the results list and return. "
   ]
  },
  {
   "cell_type": "code",
   "execution_count": 11,
   "metadata": {
    "collapsed": true
   },
   "outputs": [],
   "source": [
    "def records(url):\n",
    "    http = urllib3.PoolManager()\n",
    "    response = http.request('GET',url)\n",
    "    soup = BeautifulSoup(response.data,'html.parser')\n",
    "    \n",
    "    # Find the records in \"PROGRESSION\" tag\n",
    "    if soup.find('div',attrs ={'id':'progression'}):\n",
    "        # Find the number of disciplines inside the current progression tag by count the number of <div> tags which the class is 'container offset-below'\n",
    "        dcpl_num = len(soup.find('div',attrs ={'id':'progression'}).find_all('div',attrs ={'class':'container offset-below'}))\n",
    "        #Iinitialize the total record number to 0 under the discipline\n",
    "        rec_num = 0\n",
    "        # Create a list to store records in each dicipline\n",
    "        rec_num_in_dcpl = []\n",
    "    \n",
    "        # Loop through dicipline number and find out the corresponding record number under each discipline\n",
    "        for i in range(dcpl_num):\n",
    "            # Add the number of records in each discipline into records number list in sequence\n",
    "            rec_num_in_dcpl.append(len(soup.find('div',attrs ={'id':'progression'}).find_all('div',attrs ={'class':'container offset-below'})[i].find('table',attrs ={'class':'records-table'}).find('tbody').find_all('tr')))\n",
    "            # Add total records number\n",
    "            rec_num = rec_num + len(soup.find('div',attrs ={'id':'progression'}).find_all('div',attrs ={'class':'container offset-below'})[i].find('table',attrs ={'class':'records-table'}).find('tbody').find_all('tr'))\n",
    "    \n",
    "        # Create a list to store all the records in current\n",
    "        results = []\n",
    "        # Loop through each dicipline\n",
    "        for i in range(dcpl_num):\n",
    "            # Loop through each record\n",
    "            for j in range(rec_num_in_dcpl[i]):\n",
    "                # Create a dictionary to store single information record\n",
    "                result = {}\n",
    "                # Find athlete's name inside <title> tag\n",
    "                name = soup.find(\"title\").get_text().replace('\\n        ', '').split(' |')[0]\n",
    "                # Add name to current record list\n",
    "                result['Name'] = name\n",
    "            \n",
    "                spanTags0 = soup.find('span',attrs ={'class':'_label _label--athlete-id'})\n",
    "                if spanTags0:\n",
    "                    code = soup.find('span',attrs ={'class':'_label _label--athlete-id'}).get_text().replace('\\n', '').replace(' ','').replace(\"ATHLETE'SIAAFCODE\", '')\n",
    "                else:\n",
    "                    no_code = url.split('-')\n",
    "                    code = no_code[len(no_code)-1]\n",
    "                # Add IAAF code to current record list\n",
    "                result['IAAF_code'] = code\n",
    "                            \n",
    "                liTags0 = soup.find('li',attrs ={'class':'no-after athlete__details'})\n",
    "                if liTags0:\n",
    "                    dob = soup.find('li',attrs ={'class':'no-after athlete__details'}).find('span',attrs ={'class':'_label'}).get_text().replace('\\n', '').replace(' ','').replace(\"DATEOFBIRTH\", '')\n",
    "                # Use regular expression to transfer the DOB format\n",
    "                # dob = re.findall('\\d+|\\D+', dob)[0]+ '-' + re.findall('\\d+|\\D+', dob)[1] + '-' + re.findall('\\d+|\\D+', dob)[2]\n",
    "                else:\n",
    "                    dob = soup.find('li',attrs ={'class':'no-after'}).find('span',attrs ={'class':'_label'}).get_text().replace('\\n', '').replace(' ','').replace(\"DATEOFBIRTH\", '')\n",
    "                # Add date of birth to current record list\n",
    "                result['Date_of_birth'] = dob\n",
    "            \n",
    "                dcpl = soup.find('div',attrs ={'id':'progression'}).find_all('div',attrs ={'class':'container offset-below'})[i].find('h2').get_text().replace('\\n', '').replace('View Graph','').replace(' ','')\n",
    "                # Add discipline to current record list\n",
    "                result['Discipline'] = dcpl\n",
    "            \n",
    "                performance = soup.find('div',attrs ={'id':'progression'}).find_all('div',attrs ={'class':'container offset-below'})[i].find('table').find('tbody').find_all('tr')[j].find('td',attrs ={'data-th':'Performance'}).get_text().replace('\\n', '').replace(' ','')\n",
    "                # Add performance to current record list\n",
    "                result['Performance'] = performance\n",
    "            \n",
    "                place = soup.find('div',attrs ={'id':'progression'}).find_all('div',attrs ={'class':'container offset-below'})[i].find('table').find('tbody').find_all('tr')[j].find('td',attrs ={'data-th':'Place'}).get_text().lstrip('\\n          ').rstrip('\\n        ')\n",
    "                # Add place to current record list\n",
    "                result['Place'] = place\n",
    "            \n",
    "                date = soup.find('div',attrs ={'id':'progression'}).find_all('div',attrs ={'class':'container offset-below'})[i].find('table').find('tbody').find_all('tr')[j].find('td',attrs ={'data-th':'Date'}).get_text().replace('\\n', '').replace(' ','')\n",
    "                # Add date to current record list\n",
    "                result['Date'] = date\n",
    "                \n",
    "                # Add current record to the results list as a single record\n",
    "                results.append(result)\n",
    "        return results"
   ]
  },
  {
   "cell_type": "markdown",
   "metadata": {},
   "source": [
    "Create a list, loop through each url and call the athleteList function, append all the records from all athletes into atlete_total list, then store the list to a .csv file file for future use.\n",
    "\n",
    "Note this process may take several hours to get all the data."
   ]
  },
  {
   "cell_type": "code",
   "execution_count": 12,
   "metadata": {},
   "outputs": [
    {
     "name": "stdout",
     "output_type": "stream",
     "text": [
      "<bound method NDFrame.head of              Date Date_of_birth    Discipline IAAF_code  \\\n",
      "0       15JUL2017     01JAN1990    3000Metres    273114   \n",
      "1       07MAY2016     01JAN1990    3000Metres    273114   \n",
      "2       09MAY2015     01JAN1990    3000Metres    273114   \n",
      "3       09AUG2014     01JAN1990    3000Metres    273114   \n",
      "4       08JUN2013     01JAN1990    3000Metres    273114   \n",
      "5       22JUL2017     01JAN1990    5000Metres    273114   \n",
      "6       23JUL2016     01JAN1990    5000Metres    273114   \n",
      "7       18JUL2015     01JAN1990    5000Metres    273114   \n",
      "8       07JUN2014     01JAN1990    5000Metres    273114   \n",
      "9       17AUG2013     01JAN1990    5000Metres    273114   \n",
      "10      25AUG2012     01JAN1990    5000Metres    273114   \n",
      "11      20MAY2017     01JAN1990  10,000Metres    273114   \n",
      "12      21MAY2016     01JAN1990  10,000Metres    273114   \n",
      "13      07SEP2013     01JAN1990  10Kilometres    273114   \n",
      "14      24MAR2018     01JAN1990  HalfMarathon    273114   \n",
      "15      18JAN2015     01JAN1990    1500Metres    273114   \n",
      "16      10JAN2016     01JAN1990    3000Metres    273114   \n",
      "17      11JAN2015     01JAN1990    3000Metres    273114   \n",
      "18      23FEB2013     01JAN1990    3000Metres    273114   \n",
      "19      26FEB2012     01JAN1990    3000Metres    273114   \n",
      "20      06MAR2016          1986  10Kilometres    325829   \n",
      "21      29JAN2017          1986  HalfMarathon    325829   \n",
      "22      31JAN2016          1986  HalfMarathon    325829   \n",
      "23      25JAN2015          1986  HalfMarathon    325829   \n",
      "24      28JAN2018          1986      Marathon    325829   \n",
      "25      25MAR2018                 5Kilometres    323754   \n",
      "26      07APR2018                10Kilometres    323754   \n",
      "27      23NOV2017                10Kilometres    323754   \n",
      "28      14JAN2018                HalfMarathon    323754   \n",
      "29      17SEP2017                HalfMarathon    323754   \n",
      "...           ...           ...           ...       ...   \n",
      "99976   12MAR2000     03JUN1973  20Kilometres     11947   \n",
      "99977   13MAR1999     03JUN1973  20Kilometres     11947   \n",
      "99978   08JAN2012     03JUN1973  HalfMarathon     11947   \n",
      "99979   21MAR2010     03JUN1973  HalfMarathon     11947   \n",
      "99980   04OCT2009     03JUN1973  HalfMarathon     11947   \n",
      "99981   05OCT2008     03JUN1973  HalfMarathon     11947   \n",
      "99982   28JAN2007     03JUN1973  HalfMarathon     11947   \n",
      "99983   01OCT2006     03JUN1973  HalfMarathon     11947   \n",
      "99984   09JAN2005     03JUN1973  HalfMarathon     11947   \n",
      "99985   15FEB2004     03JUN1973  HalfMarathon     11947   \n",
      "99986   23FEB2003     03JUN1973  HalfMarathon     11947   \n",
      "99987   24MAR2001     03JUN1973  HalfMarathon     11947   \n",
      "99988   17SEP2000     03JUN1973  HalfMarathon     11947   \n",
      "99989   27MAR1999     03JUN1973  HalfMarathon     11947   \n",
      "99990   12OCT2008     03JUN1973      Marathon     11947   \n",
      "99991   14OCT2007     03JUN1973      Marathon     11947   \n",
      "99992   10APR2005     03JUN1973      Marathon     11947   \n",
      "99993   07NOV2004     03JUN1973      Marathon     11947   \n",
      "99994   01OCT2000     03JUN1973      Marathon     11947   \n",
      "99995   18APR1999     03JUN1973      Marathon     11947   \n",
      "99996   19APR1998     03JUN1973      Marathon     11947   \n",
      "99997   07SEP2008     03JUN1973   10MilesRoad     11947   \n",
      "99998   02SEP2007     03JUN1973   10MilesRoad     11947   \n",
      "99999   03SEP2006     03JUN1973   10MilesRoad     11947   \n",
      "100000  19SEP2004     03JUN1973   10MilesRoad     11947   \n",
      "100001  13APR2003     03JUN1973   10MilesRoad     11947   \n",
      "100002  08SEP2002     03JUN1973   10MilesRoad     11947   \n",
      "100003  23SEP2001     03JUN1973   10MilesRoad     11947   \n",
      "100004  24JUN2000     03JUN1973   10MilesRoad     11947   \n",
      "100005  06JUN1999     03JUN1973   10MilesRoad     11947   \n",
      "\n",
      "                         Name Performance                      Place  \n",
      "0       Mohamud Ibrahim AADAN     8:13.12              Bedford (GBR)  \n",
      "1       Mohamud Ibrahim AADAN     8:15.56              Watford (GBR)  \n",
      "2       Mohamud Ibrahim AADAN     8:18.86              Crawley (GBR)  \n",
      "3       Mohamud Ibrahim AADAN     8:25.44           Lee Valley (GBR)  \n",
      "4       Mohamud Ibrahim AADAN     8:25.58      Wormwood Scrubs (GBR)  \n",
      "5       Mohamud Ibrahim AADAN    14:05.79       Heusden-Zolder (BEL)  \n",
      "6       Mohamud Ibrahim AADAN    13:57.32               Ninove (BEL)  \n",
      "7       Mohamud Ibrahim AADAN    14:11.06               Oxford (GBR)  \n",
      "8       Mohamud Ibrahim AADAN    14:28.84            Gateshead (GBR)  \n",
      "9       Mohamud Ibrahim AADAN    14:38.25            Stretford (GBR)  \n",
      "10      Mohamud Ibrahim AADAN    14:37.57              Bedford (GBR)  \n",
      "11      Mohamud Ibrahim AADAN    29:08.94      Parliament Hill (GBR)  \n",
      "12      Mohamud Ibrahim AADAN    29:39.60      Parliament Hill (GBR)  \n",
      "13      Mohamud Ibrahim AADAN       30:34               London (GBR)  \n",
      "14      Mohamud Ibrahim AADAN     1:02:34             Valencia (ESP)  \n",
      "15      Mohamud Ibrahim AADAN     3:59.71           Lee Valley (GBR)  \n",
      "16      Mohamud Ibrahim AADAN     8:21.84            Sheffield (GBR)  \n",
      "17      Mohamud Ibrahim AADAN     8:14.40            Sheffield (GBR)  \n",
      "18      Mohamud Ibrahim AADAN     8:32.16            Sheffield (GBR)  \n",
      "19      Mohamud Ibrahim AADAN     8:49.11            Sheffield (GBR)  \n",
      "20          Abden Naser AAMAR       30:41           Casablanca (MAR)  \n",
      "21          Abden Naser AAMAR     1:09:41            Marrakesh (MAR)  \n",
      "22          Abden Naser AAMAR     1:09:37            Marrakesh (MAR)  \n",
      "23          Abden Naser AAMAR     1:08:08            Marrakesh (MAR)  \n",
      "24          Abden Naser AAMAR     2:31:27            Marrakesh (MAR)  \n",
      "25           Gebrekidan ABADI       14:20         Carlsbad, CA (USA)  \n",
      "26           Gebrekidan ABADI       30:36           Charleston (USA)  \n",
      "27           Gebrekidan ABADI       29:22       Dana Point, CA (USA)  \n",
      "28           Gebrekidan ABADI     1:05:27         Carlsbad, CA (USA)  \n",
      "29           Gebrekidan ABADI     1:04:05         Philadelphia (USA)  \n",
      "...                       ...         ...                        ...  \n",
      "99976           Greg VAN HEST       59:10  Alphen aan den Rijn (NED)  \n",
      "99977           Greg VAN HEST       58:04  Alphen aan den Rijn (NED)  \n",
      "99978           Greg VAN HEST     1:10:27       Egmond aan Zee (NED)  \n",
      "99979           Greg VAN HEST     1:10:25                Venlo (NED)  \n",
      "99980           Greg VAN HEST     1:04:48                Breda (NED)  \n",
      "99981           Greg VAN HEST     1:04:17                Breda (NED)  \n",
      "99982           Greg VAN HEST     1:05:07                 Goed (NED)  \n",
      "99983           Greg VAN HEST     1:04:59                Breda (NED)  \n",
      "99984           Greg VAN HEST     1:06:08       Egmond aan Zee (NED)  \n",
      "99985           Greg VAN HEST     1:02:54              Schoorl (NED)  \n",
      "99986           Greg VAN HEST     1:04:08               Drunen (NED)  \n",
      "99987           Greg VAN HEST     1:04:59            The Hague (NED)  \n",
      "99988           Greg VAN HEST     1:02:16            Amsterdam (NED)  \n",
      "99989           Greg VAN HEST     1:01:10            The Hague (NED)  \n",
      "99990           Greg VAN HEST     2:15:38            Eindhoven (NED)  \n",
      "99991           Greg VAN HEST     2:21:14            Eindhoven (NED)  \n",
      "99992           Greg VAN HEST     2:20:34            Rotterdam (NED)  \n",
      "99993           Greg VAN HEST     2:24:25         New York, NY (USA)  \n",
      "99994           Greg VAN HEST     2:18:00               Sydney (AUS)  \n",
      "99995           Greg VAN HEST     2:10:05            Rotterdam (NED)  \n",
      "99996           Greg VAN HEST     2:12:57            Rotterdam (NED)  \n",
      "99997           Greg VAN HEST       49:07              Tilburg (NED)  \n",
      "99998           Greg VAN HEST       49:06              Tilburg (NED)  \n",
      "99999           Greg VAN HEST       49:22              Tilburg (NED)  \n",
      "100000          Greg VAN HEST       49:25            Amsterdam (NED)  \n",
      "100001          Greg VAN HEST       49:26           Oosterhout (NED)  \n",
      "100002          Greg VAN HEST       49:31              Tilburg (NED)  \n",
      "100003          Greg VAN HEST       48:38            Amsterdam (NED)  \n",
      "100004          Greg VAN HEST       46:45             Lelystad (NED)  \n",
      "100005          Greg VAN HEST       46:46              Tilburg (NED)  \n",
      "\n",
      "[100006 rows x 7 columns]>\n"
     ]
    }
   ],
   "source": [
    "athlete_total = []\n",
    "\n",
    "for i in range(len(df)):\n",
    "    url = df.loc[i][0]\n",
    "    athlete_result = athleteList(url)\n",
    "    athlete_total.extend(athlete_result)\n",
    "\n",
    "df2 = pd.DataFrame(athlete_total)\n",
    "print(df2.head)\n",
    "\n",
    "df2.to_csv('athletes.csv')"
   ]
  },
  {
   "cell_type": "markdown",
   "metadata": {},
   "source": [
    "### Get Participated Athletes' List"
   ]
  },
  {
   "cell_type": "code",
   "execution_count": 13,
   "metadata": {
    "collapsed": true
   },
   "outputs": [],
   "source": [
    "import requests\n",
    "import csv\n",
    "import json\n",
    "import sys\n",
    "import codecs\n",
    "\n",
    "from urllib.request import urlopen;  "
   ]
  },
  {
   "cell_type": "code",
   "execution_count": 14,
   "metadata": {
    "collapsed": true
   },
   "outputs": [],
   "source": [
    "# URL of the participated athletes\n",
    "url = 'https://www.iaaf.org/data/athletesatevent/6023'\n",
    "headers = {'User-Agent':'Mozilla/5.0 (Macintosh; Intel Mac OS X 10_12_6) AppleWebKit/537.36 (KHTML, like Gecko) Chrome/64.0.3282.167 Safari/537.36'}"
   ]
  },
  {
   "cell_type": "markdown",
   "metadata": {},
   "source": [
    "The athlete list is scraping from the 2018 IAAF world half marathon championship official website. This list is in JSON form, so I have to process and save it as a .csv file then join it with the athlete performance history to get the valid data."
   ]
  },
  {
   "cell_type": "code",
   "execution_count": 15,
   "metadata": {},
   "outputs": [
    {
     "name": "stdout",
     "output_type": "stream",
     "text": [
      "Sample JSON text: {'id': 273114, 'fn': 'Mohamud Ibrahim', 'ln': 'Aadan', 'Cty': 'Great Britain & N.I.', 'CC': 'GBR', 'DOB': '01 JAN 1990', 'S': 'Men', 'D': [{'N': 'Half Marathon', 'DC': 'HMAR'}], 'frn': 'Aadan', 'pb': None, 'sb': None, 'fl': 'A', 'cf': None, 'TeamName': None, 'SexNameShow': None, 'CompetitiorId': 0, 'EventId': 0}\n",
      "Sample JSON text: {'id': 369352, 'fn': 'Nesma Ammar Saad Mohamed', 'ln': 'Abdelghany', 'Cty': 'Egypt', 'CC': 'EGY', 'DOB': '01 JAN 1993', 'S': 'Women', 'D': [{'N': 'Half Marathon', 'DC': 'HMAR'}], 'frn': 'Abdelghany', 'pb': None, 'sb': None, 'fl': 'A', 'cf': None, 'TeamName': None, 'SexNameShow': None, 'CompetitiorId': 0, 'EventId': 0}\n"
     ]
    }
   ],
   "source": [
    "# Read and decode the json file\n",
    "rawtext=urlopen(url,timeout=15).read();  \n",
    "jsonStr = json.loads(rawtext.decode('utf8')); \n",
    "\n",
    "print('Sample JSON text:',jsonStr[0])\n",
    "print('Sample JSON text:',jsonStr[1])"
   ]
  },
  {
   "cell_type": "code",
   "execution_count": 16,
   "metadata": {
    "collapsed": true
   },
   "outputs": [],
   "source": [
    "# Save the JSON to local\n",
    "f=open(\"jsondatafile.json\",\"a\",encoding=\"utf8\");\n",
    "f.write(json.dumps(jsonStr,ensure_ascii=False)+\"\\n\");\n",
    "f.close();"
   ]
  },
  {
   "cell_type": "code",
   "execution_count": 17,
   "metadata": {},
   "outputs": [
    {
     "name": "stdout",
     "output_type": "stream",
     "text": [
      "Sample data read: {'id': 273114, 'fn': 'Mohamud Ibrahim', 'ln': 'Aadan', 'Cty': 'Great Britain & N.I.', 'CC': 'GBR', 'DOB': '01 JAN 1990', 'S': 'Men', 'D': [{'N': 'Half Marathon', 'DC': 'HMAR'}], 'frn': 'Aadan', 'pb': None, 'sb': None, 'fl': 'A', 'cf': None, 'TeamName': None, 'SexNameShow': None, 'CompetitiorId': 0, 'EventId': 0}\n"
     ]
    }
   ],
   "source": [
    "# Read local JSON file to see if it has been saved correctly\n",
    "for eachLine in open(\"jsondatafile.json\",\"r\",encoding=\"utf8\"):  \n",
    "    jsonData=json.loads(eachLine);\n",
    "print('Sample data read:',jsonData[0]) "
   ]
  },
  {
   "cell_type": "code",
   "execution_count": 18,
   "metadata": {
    "collapsed": true
   },
   "outputs": [],
   "source": [
    "# Save each id into a list\n",
    "i = 0\n",
    "idList = []\n",
    "for di in jsonData:\n",
    "    idList.append(jsonData[i]['id'])\n",
    "    i = i + 1"
   ]
  },
  {
   "cell_type": "code",
   "execution_count": 19,
   "metadata": {
    "collapsed": true
   },
   "outputs": [],
   "source": [
    "# Save athletes' ids into .csv file\n",
    "csvfile = 'idList.csv'\n",
    "with open(csvfile, \"w\") as output:\n",
    "    writer = csv.writer(output, lineterminator='\\n')\n",
    "    for val in idList:\n",
    "        writer.writerow([val])"
   ]
  },
  {
   "cell_type": "markdown",
   "metadata": {},
   "source": [
    "## Data Cleaning"
   ]
  },
  {
   "cell_type": "markdown",
   "metadata": {},
   "source": [
    "Import spark packages."
   ]
  },
  {
   "cell_type": "code",
   "execution_count": 20,
   "metadata": {
    "collapsed": true
   },
   "outputs": [],
   "source": [
    "from pyspark.context import SparkContext\n",
    "from pyspark.sql.session import SparkSession\n",
    "sc = SparkContext()\n",
    "spark = SparkSession(sc)"
   ]
  },
  {
   "cell_type": "markdown",
   "metadata": {},
   "source": [
    "Create a spark sql context."
   ]
  },
  {
   "cell_type": "code",
   "execution_count": 21,
   "metadata": {
    "collapsed": true
   },
   "outputs": [],
   "source": [
    "from pyspark.sql.types import *\n",
    "\n",
    "sc = spark.sparkContext"
   ]
  },
  {
   "cell_type": "markdown",
   "metadata": {},
   "source": [
    "Set up a spark structured streaming with columns' name and proper data type.\n",
    "\n",
    "Show the sample data in the dataframe."
   ]
  },
  {
   "cell_type": "code",
   "execution_count": 22,
   "metadata": {},
   "outputs": [
    {
     "data": {
      "text/plain": [
       "[Row(Record_No=0, Date='15JUL2017', Date_of_birth='01JAN1990', Discipline='3000Metres', IAAF_code=273114, Name='Mohamud Ibrahim AADAN', Performance='8:13.12', Place='Bedford (GBR)'),\n",
       " Row(Record_No=1, Date='07MAY2016', Date_of_birth='01JAN1990', Discipline='3000Metres', IAAF_code=273114, Name='Mohamud Ibrahim AADAN', Performance='8:15.56', Place='Watford (GBR)'),\n",
       " Row(Record_No=2, Date='09MAY2015', Date_of_birth='01JAN1990', Discipline='3000Metres', IAAF_code=273114, Name='Mohamud Ibrahim AADAN', Performance='8:18.86', Place='Crawley (GBR)'),\n",
       " Row(Record_No=3, Date='09AUG2014', Date_of_birth='01JAN1990', Discipline='3000Metres', IAAF_code=273114, Name='Mohamud Ibrahim AADAN', Performance='8:25.44', Place='Lee Valley (GBR)'),\n",
       " Row(Record_No=4, Date='08JUN2013', Date_of_birth='01JAN1990', Discipline='3000Metres', IAAF_code=273114, Name='Mohamud Ibrahim AADAN', Performance='8:25.58', Place='Wormwood Scrubs (GBR)')]"
      ]
     },
     "metadata": {},
     "output_type": "display_data"
    }
   ],
   "source": [
    "# Load data to dataframe\n",
    "dataSchema = StructType([StructField('Record_No', IntegerType(), True),\n",
    "                     StructField('Date', StringType(), True),\n",
    "                     StructField('Date_of_birth', StringType(), True),\n",
    "                     StructField('Discipline', StringType(), True),\n",
    "                     StructField('IAAF_code', IntegerType(), True),\n",
    "                     StructField('Name', StringType(), True),\n",
    "                     StructField('Performance', StringType(), True),\n",
    "                     StructField('Place', StringType(), True)])\n",
    "\n",
    "performanceData = spark.read.csv('athletes.csv', header=True, schema=dataSchema)\n",
    "display(performanceData.head(5))"
   ]
  },
  {
   "cell_type": "markdown",
   "metadata": {},
   "source": [
    "Import pyspark sql functions."
   ]
  },
  {
   "cell_type": "code",
   "execution_count": 23,
   "metadata": {
    "collapsed": true
   },
   "outputs": [],
   "source": [
    "from pyspark.sql.functions import *"
   ]
  },
  {
   "cell_type": "markdown",
   "metadata": {},
   "source": [
    "Call count() method to see how many distinct disciplines are there in the data."
   ]
  },
  {
   "cell_type": "code",
   "execution_count": 24,
   "metadata": {},
   "outputs": [
    {
     "data": {
      "text/plain": [
       "55"
      ]
     },
     "execution_count": 24,
     "metadata": {},
     "output_type": "execute_result"
    }
   ],
   "source": [
    "performanceData.select(\"Discipline\").distinct().count()"
   ]
  },
  {
   "cell_type": "markdown",
   "metadata": {},
   "source": [
    "There are total 55 disciplines in the dataset, including the non-running competitions, so I need to filter the data and get the records of running races."
   ]
  },
  {
   "cell_type": "markdown",
   "metadata": {},
   "source": [
    "Create a filter dataframe to filter the original data and get only the records of running races."
   ]
  },
  {
   "cell_type": "code",
   "execution_count": 25,
   "metadata": {
    "collapsed": true
   },
   "outputs": [],
   "source": [
    "from pyspark.sql import Row\n",
    "from pyspark.sql import SQLContext\n",
    "sqlContext = SQLContext(sc)\n",
    "\n",
    "# Create a new dataframe to filter the dicipline\n",
    "dspl = [(0,'20,000Metres'),(1,'3000Metres'),(2,'20Kilometres'),(3,'12Kilometres'),(4,'30Kilometres'),(5,'2000Metres'),(6,'8Kilometres'),(7,'OneMile'),(8,'1500Metres'),(9,'5Kilometres'),(10,'10Kilometres'),(11,'15Kilometres'),(12,'TwoMiles'),(13,'Marathon'),(14,'HalfMarathon'),(15,'25Kilometres'),(16,'5000Metres'),(17,'10,000Metres'),(18,'1000Metres')]\n",
    "columns = ['No_','Discipline' ]\n",
    "discipline = sqlContext.createDataFrame(dspl, columns)"
   ]
  },
  {
   "cell_type": "markdown",
   "metadata": {},
   "source": [
    "Join the original data with the filter and get a new dataset including all running races data.\n",
    "\n",
    "Show the distinct disciplines now and count the number of distinct disciplines."
   ]
  },
  {
   "cell_type": "code",
   "execution_count": 26,
   "metadata": {},
   "outputs": [
    {
     "name": "stdout",
     "output_type": "stream",
     "text": [
      "+------------+\n",
      "|  Discipline|\n",
      "+------------+\n",
      "|20,000Metres|\n",
      "|  3000Metres|\n",
      "|20Kilometres|\n",
      "|12Kilometres|\n",
      "|30Kilometres|\n",
      "|  2000Metres|\n",
      "| 8Kilometres|\n",
      "|     OneMile|\n",
      "|  1500Metres|\n",
      "| 5Kilometres|\n",
      "|10Kilometres|\n",
      "|15Kilometres|\n",
      "|    TwoMiles|\n",
      "|    Marathon|\n",
      "|HalfMarathon|\n",
      "|25Kilometres|\n",
      "|  5000Metres|\n",
      "|10,000Metres|\n",
      "|  1000Metres|\n",
      "+------------+\n",
      "\n"
     ]
    },
    {
     "data": {
      "text/plain": [
       "19"
      ]
     },
     "execution_count": 26,
     "metadata": {},
     "output_type": "execute_result"
    }
   ],
   "source": [
    "# Join the profile data with the filter\n",
    "performanceData = performanceData.join(discipline, \"Discipline\")\n",
    "performanceData.select(\"Discipline\").distinct().show()\n",
    "performanceData.select(\"Discipline\").distinct().count()"
   ]
  },
  {
   "cell_type": "markdown",
   "metadata": {},
   "source": [
    "Now, there are total 19 disciplines, running races only."
   ]
  },
  {
   "cell_type": "markdown",
   "metadata": {},
   "source": [
    "Load the participated athletes' id data and make it a dataframe to use after."
   ]
  },
  {
   "cell_type": "code",
   "execution_count": 27,
   "metadata": {},
   "outputs": [
    {
     "data": {
      "text/plain": [
       "281"
      ]
     },
     "execution_count": 27,
     "metadata": {},
     "output_type": "execute_result"
    }
   ],
   "source": [
    "# Load id data to dataframe\n",
    "dataSchema_id = StructType([StructField('IAAF_code', IntegerType(), True)])\n",
    "\n",
    "idData = spark.read.csv('idList.csv', header=False, schema=dataSchema_id)\n",
    "idData.count()"
   ]
  },
  {
   "cell_type": "markdown",
   "metadata": {},
   "source": [
    "Select useful information in the records and make it a new dataframe ordered by the default record number."
   ]
  },
  {
   "cell_type": "code",
   "execution_count": 28,
   "metadata": {
    "collapsed": true
   },
   "outputs": [],
   "source": [
    "performanceData = performanceData.select('Record_No','IAAF_code','Name','Date_of_birth', 'Date','Place','Discipline','Performance').orderBy(performanceData['Record_No'])"
   ]
  },
  {
   "cell_type": "markdown",
   "metadata": {},
   "source": [
    "User-defined function to transfer the multiple format of performance time in the dataframe to Milliseconds, which will be more convenient to build the model.\n",
    "\n",
    "There're several types of format for the \"Performance\" column, for example: \"8:15.6\", \"1:09:41\", \"30:34:00\", etc. Each of these formats are hard to make use of building the model. So I wrote the function which is adaptive to all the time formats in this dataset to transfer to milliseconds.\n",
    "\n",
    "I used regular expression to estimate the format of time and calculate the corresponding milliseconds.\n",
    "\n",
    "The function returns an millisecond integer."
   ]
  },
  {
   "cell_type": "code",
   "execution_count": 29,
   "metadata": {
    "collapsed": true
   },
   "outputs": [],
   "source": [
    "import datetime\n",
    "import re\n",
    "# @udf\n",
    "def timeTransfer(time_str):\n",
    "    if '.' in time_str:\n",
    "        r1 = re.compile('^\\d{1}:\\d{2}\\.\\d{2}')\n",
    "        r2 = re.compile('^\\d{2}:\\d{2}\\.\\d{2}')\n",
    "        r3 = re.compile('^\\d{2}:\\d{2}:\\d{2}\\.\\d{2}')\n",
    "        if r1.match(time_str) is not None:\n",
    "            time = datetime.datetime.strptime(time_str, \"%M:%S.%f\")\n",
    "            return int(time.minute) * 60000 +int(time.second) * 1000 +int(time.microsecond)/1000\n",
    "        elif r2.match(time_str) is not None:\n",
    "            time = datetime.datetime.strptime(time_str, \"%M:%S.%f\")\n",
    "            return int(time.minute) * 60000 +int(time.second) * 1000 +int(time.microsecond)/1000\n",
    "        elif r3.match(time_str) is not None:\n",
    "            time = datetime.datetime.strptime(time_str, \"%H:%M:%S.%f\")\n",
    "            return int(time.hour) * 3600000 + int(time.minute) * 60000 +int(time.second) * 1000 +int(time.microsecond)/1000\n",
    "    else:\n",
    "        r4 = re.compile('^\\d{2}:\\d{2}')\n",
    "        r5 = re.compile('^\\d{1}:\\d{2}:\\d{2}')\n",
    "        if r4.match(time_str) is not None:\n",
    "            time = datetime.datetime.strptime(time_str, \"%M:%S\")\n",
    "            return int(time.minute) * 60000 +int(time.second) * 1000\n",
    "        elif r5.match(time_str) is not None:\n",
    "            time = datetime.datetime.strptime(time_str, \"%H:%M:%S\")\n",
    "            return int(time.hour) * 3600000 + int(time.minute) * 60000 +int(time.second) * 1000"
   ]
  },
  {
   "cell_type": "code",
   "execution_count": 30,
   "metadata": {
    "collapsed": true
   },
   "outputs": [],
   "source": [
    "# Register the function\n",
    "sqlContext.udf.register(\"timeTransfer\", timeTransfer)\n",
    "timeTransfer_udf = udf(timeTransfer)"
   ]
  },
  {
   "cell_type": "markdown",
   "metadata": {},
   "source": [
    "User-defined function to get the month in 'Date' column.\n",
    "\n",
    "Estimate the string inside the \"Date\" column and returns the corresponding month integer."
   ]
  },
  {
   "cell_type": "code",
   "execution_count": 31,
   "metadata": {
    "collapsed": true
   },
   "outputs": [],
   "source": [
    "def convert_month(date_str):\n",
    "    if 'JAN' in date_str:\n",
    "        return 1\n",
    "    elif 'FEB' in date_str:\n",
    "        return 2\n",
    "    elif 'MAR' in date_str:\n",
    "        return 3\n",
    "    elif 'APR' in date_str:\n",
    "        return 4\n",
    "    elif 'MAY' in date_str:\n",
    "        return 5\n",
    "    elif 'JUN' in date_str:\n",
    "        return 6\n",
    "    elif 'JUL' in date_str:\n",
    "        return 7\n",
    "    elif 'AUG' in date_str:\n",
    "        return 8\n",
    "    elif 'SEP' in date_str:\n",
    "        return 9\n",
    "    elif 'OCT' in date_str:\n",
    "        return 10\n",
    "    elif 'NOV' in date_str:\n",
    "        return 11\n",
    "    elif 'DEC' in date_str:\n",
    "        return 12\n",
    "    return date_str.month"
   ]
  },
  {
   "cell_type": "code",
   "execution_count": 32,
   "metadata": {
    "collapsed": true
   },
   "outputs": [],
   "source": [
    "# Register the function\n",
    "sqlContext.udf.register(\"convert_month\", convert_month)\n",
    "convert_month_udf = udf(convert_month)"
   ]
  },
  {
   "cell_type": "markdown",
   "metadata": {},
   "source": [
    "User-defined function to transfer the original dicipline to race length in metres.\n",
    "\n",
    "Estimate the string inside the \"Discipline\" column and returns the corresponding metre integer."
   ]
  },
  {
   "cell_type": "code",
   "execution_count": 33,
   "metadata": {
    "collapsed": true
   },
   "outputs": [],
   "source": [
    "def event_convert(event_str):\n",
    "    if \"20,000Metres\" in event_str:\n",
    "        return 20000\n",
    "    elif \"3000Metres\" in event_str:\n",
    "        return 3000\n",
    "    elif \"20Kilometres\" in event_str:\n",
    "        return 20000\n",
    "    elif \"12Kilometres\" in event_str:\n",
    "        return 12000\n",
    "    elif \"30Kilometres\" in event_str:\n",
    "        return 30000\n",
    "    elif \"2000Metres\" in event_str:\n",
    "        return 2000\n",
    "    elif \"8Kilometres\" in event_str:\n",
    "        return 8000\n",
    "    elif \"OneMile\" in event_str:\n",
    "        return 1609\n",
    "    elif \"1500Metres\" in event_str:\n",
    "        return 1500\n",
    "    elif \"5Kilometres\" in event_str:\n",
    "        return 5000\n",
    "    elif \"10Kilometres\" in event_str:\n",
    "        return 10000\n",
    "    elif \"15Kilometres\" in event_str:\n",
    "        return 15000\n",
    "    elif \"TwoMiles\" in event_str:\n",
    "        return 3219\n",
    "    elif \"25Kilometres\" in event_str:\n",
    "        return 25000\n",
    "    elif \"HalfMarathon\" in event_str:\n",
    "        return 21098\n",
    "    elif \"Marathon\" in event_str:\n",
    "        return 42195\n",
    "    elif \"5000Metres\" in event_str:\n",
    "        return 5000\n",
    "    elif \"10,000Metres\" in event_str:\n",
    "        return 10000\n",
    "    elif \"1000Metres\" in event_str:\n",
    "        return 1000"
   ]
  },
  {
   "cell_type": "code",
   "execution_count": 34,
   "metadata": {
    "collapsed": true
   },
   "outputs": [],
   "source": [
    "# Register the function\n",
    "sqlContext.udf.register(\"event_convert\", event_convert)\n",
    "event_convert_udf = udf(event_convert)"
   ]
  },
  {
   "cell_type": "markdown",
   "metadata": {},
   "source": [
    "User-defined function to get the age when athelte attend the race.\n",
    "\n",
    "Get the last 4 digits in \"Date\" and \"Date_of_birth\" column and calculate the different value between them to get the age of the athlete when he attend the race."
   ]
  },
  {
   "cell_type": "code",
   "execution_count": 35,
   "metadata": {
    "collapsed": true
   },
   "outputs": [],
   "source": [
    "def ageTransfer(year1,year2):\n",
    "    year1 = int(year1[-4:])\n",
    "    year2 = int(year2[-4:])\n",
    "    return year1 - year2"
   ]
  },
  {
   "cell_type": "code",
   "execution_count": 36,
   "metadata": {
    "collapsed": true
   },
   "outputs": [],
   "source": [
    "# Register the function\n",
    "sqlContext.udf.register(\"ageTransfer\", ageTransfer)\n",
    "ageTransfer_udf = udf(ageTransfer)"
   ]
  },
  {
   "cell_type": "markdown",
   "metadata": {},
   "source": [
    "Using the three functions above to add three new columns into the dataframe based on the original values. They are: \n",
    "\n",
    "- 'perf_millisecs' : Performance to milliseconds\n",
    "\n",
    "- 'month' : month of the race took place\n",
    "\n",
    "- 'race_metre' : metre of the race\n",
    "\n",
    "- 'age' : age of athlete"
   ]
  },
  {
   "cell_type": "code",
   "execution_count": 39,
   "metadata": {
    "collapsed": true
   },
   "outputs": [],
   "source": [
    "performanceData = performanceData.where(performanceData['Discipline'] == 'HalfMarathon').select('Record_No','IAAF_code','Name','Date_of_birth', 'Date','Place','Discipline','Performance',timeTransfer_udf('Performance').alias('perf_millisecs'),convert_month_udf('Date').alias('month'),event_convert_udf('Discipline').alias('race_metre'))"
   ]
  },
  {
   "cell_type": "markdown",
   "metadata": {},
   "source": [
    "Drop rows contains null values, which may influence the model building."
   ]
  },
  {
   "cell_type": "code",
   "execution_count": 40,
   "metadata": {},
   "outputs": [
    {
     "name": "stdout",
     "output_type": "stream",
     "text": [
      "+---------+---------+--------------------+-------------+---------+--------------------+------------+-----------+--------------+-----+----------+---+\n",
      "|Record_No|IAAF_code|                Name|Date_of_birth|     Date|               Place|  Discipline|Performance|perf_millisecs|month|race_metre|age|\n",
      "+---------+---------+--------------------+-------------+---------+--------------------+------------+-----------+--------------+-----+----------+---+\n",
      "|       14|   273114|Mohamud Ibrahim A...|    01JAN1990|24MAR2018|      Valencia (ESP)|HalfMarathon|    1:02:34|       3754000|    3|     21098| 28|\n",
      "|       21|   325829|   Abden Naser AAMAR|         1986|29JAN2017|     Marrakesh (MAR)|HalfMarathon|    1:09:41|       4181000|    1|     21098| 31|\n",
      "|       22|   325829|   Abden Naser AAMAR|         1986|31JAN2016|     Marrakesh (MAR)|HalfMarathon|    1:09:37|       4177000|    1|     21098| 30|\n",
      "|       23|   325829|   Abden Naser AAMAR|         1986|25JAN2015|     Marrakesh (MAR)|HalfMarathon|    1:08:08|       4088000|    1|     21098| 29|\n",
      "|       41|   317050|     Deme Tadu ABATE|    11SEP1997|11MAR2018|        Lisboa (POR)|HalfMarathon|    1:01:21|       3681000|    3|     21098| 21|\n",
      "|       42|   317050|     Deme Tadu ABATE|    11SEP1997|19MAR2017|        Lisboa (POR)|HalfMarathon|    1:00:46|       3646000|    3|     21098| 20|\n",
      "|       47|   221066|   Azzouzi ABDELAZIZ|    03APR1979|08JUL2007|       Sapporo (JPN)|HalfMarathon|    1:04:17|       3857000|    7|     21098| 28|\n",
      "|       48|   221066|   Azzouzi ABDELAZIZ|    03APR1979|03JUL2005|       Sapporo (JPN)|HalfMarathon|    1:04:27|       3867000|    7|     21098| 26|\n",
      "|       53|    56172|Ihab Salama ABDELLAH|    30NOV1977|05MAY2002|     Bruxelles (BEL)|HalfMarathon|    1:29:01|       5341000|    5|     21098| 25|\n",
      "|       54|    56172|Ihab Salama ABDELLAH|    30NOV1977|27AUG2000|        Zamora (ESP)|HalfMarathon|    1:08:38|       4118000|    8|     21098| 23|\n",
      "|       55|    56172|Ihab Salama ABDELLAH|    30NOV1977|03OCT1999|       Palermo (ITA)|HalfMarathon|    1:13:41|       4421000|   10|     21098| 22|\n",
      "|       97|   281105|         Bashir ABDI|    10FEB1989|02SEP2017|         Lille (FRA)|HalfMarathon|    1:01:50|       3710000|    9|     21098| 28|\n",
      "|      109|   388267|         Ismail ABDI|         1974|30MAR2002|     Paderborn (GER)|HalfMarathon|    1:03:01|       3781000|    3|     21098| 28|\n",
      "|      125|   350387|     Mahadi ABDI ALI|    08NOV1995|14JAN2018|Egmond aan Zee (NED)|HalfMarathon|    1:09:58|       4198000|    1|     21098| 23|\n",
      "|      158|   263903|Mohad ABDIKADAR S...|    12JUN1993|12MAR2017|         Ostia (ITA)|HalfMarathon|    1:08:59|       4139000|    3|     21098| 24|\n",
      "|      240|   137596|     Abdi ABDIRAHMAN|    02DEC1978|12JAN2018|          Doha (QAT)|HalfMarathon|    1:03:18|       3798000|    1|     21098| 40|\n",
      "|      241|   137596|     Abdi ABDIRAHMAN|    02DEC1978|19MAR2017|  New York, NY (USA)|HalfMarathon|    1:03:22|       3802000|    3|     21098| 39|\n",
      "|      242|   137596|     Abdi ABDIRAHMAN|    02DEC1978|30APR2016|      Columbus (USA)|HalfMarathon|    1:03:49|       3829000|    4|     21098| 38|\n",
      "|      243|   137596|     Abdi ABDIRAHMAN|    02DEC1978|22FEB2015|     Tampa, FL (USA)|HalfMarathon|    1:03:55|       3835000|    2|     21098| 37|\n",
      "|      244|   137596|     Abdi ABDIRAHMAN|    02DEC1978|23FEB2014|     Tampa, FL (USA)|HalfMarathon|    1:04:19|       3859000|    2|     21098| 36|\n",
      "+---------+---------+--------------------+-------------+---------+--------------------+------------+-----------+--------------+-----+----------+---+\n",
      "only showing top 20 rows\n",
      "\n"
     ]
    }
   ],
   "source": [
    "performanceData_train = performanceData.dropna()\n",
    "performanceData_train = performanceData_train.select('Record_No','IAAF_code','Name','Date_of_birth', 'Date','Place','Discipline','Performance','perf_millisecs','month','race_metre',ageTransfer_udf('Date','Date_of_birth').alias('age'))\n",
    "performanceData_train.show()"
   ]
  },
  {
   "cell_type": "code",
   "execution_count": 41,
   "metadata": {},
   "outputs": [
    {
     "name": "stdout",
     "output_type": "stream",
     "text": [
      "root\n",
      " |-- Record_No: integer (nullable = true)\n",
      " |-- IAAF_code: integer (nullable = true)\n",
      " |-- Name: string (nullable = true)\n",
      " |-- Date_of_birth: string (nullable = true)\n",
      " |-- Date: string (nullable = true)\n",
      " |-- Place: string (nullable = true)\n",
      " |-- Discipline: string (nullable = true)\n",
      " |-- Performance: string (nullable = true)\n",
      " |-- perf_millisecs: integer (nullable = true)\n",
      " |-- month: integer (nullable = true)\n",
      " |-- race_metre: integer (nullable = true)\n",
      " |-- age: integer (nullable = true)\n",
      "\n"
     ]
    }
   ],
   "source": [
    "performanceData_train=performanceData_train.withColumn(\"perf_millisecs\", performanceData_train[\"perf_millisecs\"].cast(IntegerType())).withColumn(\"month\", performanceData_train[\"month\"].cast(IntegerType())).withColumn(\"race_metre\", performanceData_train[\"race_metre\"].cast(IntegerType())).withColumn(\"age\", performanceData_train[\"age\"].cast(IntegerType()))\n",
    "performanceData_train.printSchema()"
   ]
  },
  {
   "cell_type": "markdown",
   "metadata": {},
   "source": [
    "Import seaborn and matplotlib packages to visualize the data, draw a graph of the relationship between performance and discipline."
   ]
  },
  {
   "cell_type": "code",
   "execution_count": 45,
   "metadata": {
    "collapsed": true
   },
   "outputs": [],
   "source": [
    "import seaborn as sns\n",
    "import matplotlib.pyplot as plt\n",
    "# Transfer spark dataframe to pandas dataframe in order to visualize data\n",
    "visual = performanceData_train.toPandas()"
   ]
  },
  {
   "cell_type": "code",
   "execution_count": 22,
   "metadata": {},
   "outputs": [
    {
     "data": {
      "image/png": "[encoded data removed]",
      "text/plain": [
       "<matplotlib.figure.Figure at 0x1a0dc215c0>"
      ]
     },
     "metadata": {},
     "output_type": "display_data"
    }
   ],
   "source": [
    "g = sns.JointGrid(x=\"race_metre\", y=\"perf_millisecs\", size=8, data=visual)\n",
    "g.set_axis_labels(\"race_metre\", \"perf_millisecs\")\n",
    "g = g.plot(sns.regplot, sns.distplot)\n",
    "plt.show()"
   ]
  },
  {
   "cell_type": "markdown",
   "metadata": {},
   "source": [
    "## Machine Learning Pipeline"
   ]
  },
  {
   "cell_type": "markdown",
   "metadata": {},
   "source": [
    "### Pipeline"
   ]
  },
  {
   "cell_type": "markdown",
   "metadata": {},
   "source": [
    "//Reference from - ML Pipelines - Spark 2.3.0 Documentation - Apache Spark https://spark.apache.org/docs/latest/ml-pipeline.html\n",
    "\n",
    "In machine learning, it is common to run a sequence of algorithms to process and learn from data. MLlib represents such a workflow as a Pipeline, which consists of a sequence of PipelineStages (Transformers and Estimators) to be run in a specific order. \n",
    "\n",
    "A Pipeline is specified as a sequence of stages, and each stage is either a Transformer or an Estimator. These stages are run in order, and the input DataFrame is transformed as it passes through each stage. \n",
    "\n",
    "For Transformer stages, the transform() method is called on the DataFrame. \n",
    "\n",
    "For Estimator stages, the fit() method is called to produce a Transformer (which becomes part of the PipelineModel, or fitted Pipeline), and that Transformer’s transform() method is called on the DataFrame."
   ]
  },
  {
   "cell_type": "markdown",
   "metadata": {},
   "source": [
    "![](https://spark.apache.org/docs/latest/img/ml-Pipeline.png)"
   ]
  },
  {
   "cell_type": "markdown",
   "metadata": {},
   "source": [
    "Above, the top row represents a Pipeline with three stages. The first two (Tokenizer and HashingTF) are Transformers (blue), and the third (LogisticRegression) is an Estimator (red). The bottom row represents data flowing through the pipeline, where cylinders indicate DataFrames. \n",
    "\n",
    "The Pipeline.fit() method is called on the original DataFrame, which has raw text documents and labels. \n",
    "\n",
    "The Tokenizer.transform() method splits the raw text documents into words, adding a new column with words to the DataFrame. \n",
    "\n",
    "The HashingTF.transform() method converts the words column into feature vectors, adding a new column with those vectors to the DataFrame. \n",
    "\n",
    "Now, since LogisticRegression is an Estimator, the Pipeline first calls LogisticRegression.fit() to produce a LogisticRegressionModel. If the Pipeline had more Estimators, it would call the LogisticRegressionModel’s transform() method on the DataFrame before passing the DataFrame to the next stage."
   ]
  },
  {
   "cell_type": "markdown",
   "metadata": {},
   "source": [
    "Knowing how the pipeline works, we can now create a machine learning pipeline and train it.\n",
    "\n",
    "First define the target label, stage of pipeline and feature columns, including: numeric columns, categorical columns and the target column."
   ]
  },
  {
   "cell_type": "code",
   "execution_count": 24,
   "metadata": {
    "collapsed": true
   },
   "outputs": [],
   "source": [
    "from pyspark.ml import Pipeline\n",
    "from pyspark.ml.classification import RandomForestClassifier\n",
    "from pyspark.ml.feature import IndexToString, StringIndexer, VectorIndexer, OneHotEncoder, StringIndexer, VectorAssembler\n",
    "\n",
    "\n",
    "# define target label (for prediction) from target features\n",
    "labels = \"perf_millisecs\"\n",
    "\n",
    "# stages in the Pipeline\n",
    "stages = []\n",
    "    \n",
    "# define variables; categorical, countinuous and target features\n",
    "numericCols = [\"race_metre\",\"month\",\"age\"]\n",
    "categoricalColumns =[\"Discipline\"]\n",
    "targetsColumns = [\"perf_millisecs\"]"
   ]
  },
  {
   "cell_type": "markdown",
   "metadata": {},
   "source": [
    "Assemble feature columns into a feature vector. Identify categorical features, and index them. Then add the categorical vector into pipelin stage."
   ]
  },
  {
   "cell_type": "code",
   "execution_count": 25,
   "metadata": {
    "collapsed": true
   },
   "outputs": [],
   "source": [
    "for categoricalCol in categoricalColumns:\n",
    "    stringIndexer = StringIndexer(inputCol = categoricalCol,\n",
    "                                  outputCol = categoricalCol + \"Index\") # Category Indexing with StringIndexer\n",
    "    stages += [stringIndexer]  # Add stages to the pipeline"
   ]
  },
  {
   "cell_type": "code",
   "execution_count": 26,
   "metadata": {
    "collapsed": true
   },
   "outputs": [],
   "source": [
    "categoricalColumnsIDX = ['DisciplineIndex']"
   ]
  },
  {
   "cell_type": "markdown",
   "metadata": {},
   "source": [
    "Identify label column and index them, add the vector to pipeline stage."
   ]
  },
  {
   "cell_type": "code",
   "execution_count": 27,
   "metadata": {
    "collapsed": true
   },
   "outputs": [],
   "source": [
    "label_stringIdx = StringIndexer(inputCol = labels, outputCol = \"label\")\n",
    "stages += [label_stringIdx]"
   ]
  },
  {
   "cell_type": "markdown",
   "metadata": {},
   "source": [
    "Put the columns vector together as a vector and add it to the pipeline stage."
   ]
  },
  {
   "cell_type": "code",
   "execution_count": 28,
   "metadata": {
    "collapsed": true
   },
   "outputs": [],
   "source": [
    "assemblerInputs = categoricalColumnsIDX + numericCols\n",
    "assembler = VectorAssembler(inputCols = assemblerInputs, outputCol = \"features\")\n",
    "stages += [assembler]"
   ]
  },
  {
   "cell_type": "markdown",
   "metadata": {},
   "source": [
    "Create the pipeline and run the feature transformations.\n",
    "\n",
    " - fit() computes feature statistics as needed.\n",
    " - transform() actually transforms the features."
   ]
  },
  {
   "cell_type": "code",
   "execution_count": 29,
   "metadata": {
    "collapsed": true
   },
   "outputs": [],
   "source": [
    "pipeline = Pipeline(stages=stages)\n",
    "\n",
    "pipelineModel = pipeline.fit(performanceData_train0)\n",
    "dataset = pipelineModel.transform(performanceData_train0)"
   ]
  },
  {
   "cell_type": "markdown",
   "metadata": {},
   "source": [
    "Split the data to train and test use randomSplit() method, print the number of training data and testing data."
   ]
  },
  {
   "cell_type": "code",
   "execution_count": 30,
   "metadata": {},
   "outputs": [
    {
     "name": "stdout",
     "output_type": "stream",
     "text": [
      "We have 4795 training examples and 1227 test examples.\n"
     ]
    }
   ],
   "source": [
    "from pyspark.ml.tuning import CrossValidator, ParamGridBuilder, TrainValidationSplit\n",
    "from pyspark.ml.evaluation import MulticlassClassificationEvaluator\n",
    "\n",
    "train, test = dataset.randomSplit([0.8, 0.2], seed = 100)\n",
    "\n",
    "print(\"We have %d training examples and %d test examples.\" % (train.count(), test.count()))"
   ]
  },
  {
   "cell_type": "markdown",
   "metadata": {},
   "source": [
    "Fit the trainning data to DecisionTreeClassifier with the feature columns wrapped before."
   ]
  },
  {
   "cell_type": "code",
   "execution_count": 31,
   "metadata": {
    "collapsed": true
   },
   "outputs": [],
   "source": [
    "from pyspark.ml.classification import DecisionTreeClassifier\n",
    "\n",
    "# Create initial Decision Tree Model\n",
    "dt = DecisionTreeClassifier(labelCol=\"label\", featuresCol=\"features\", maxDepth=3, maxBins= 20)\n",
    "\n",
    "# Train model with Training Data\n",
    "dtModel = dt.fit(train)"
   ]
  },
  {
   "cell_type": "code",
   "execution_count": null,
   "metadata": {
    "collapsed": true
   },
   "outputs": [],
   "source": [
    "print(\"numNodes = \", dtModel.numNodes)\n",
    "print(\"depth = \", dtModel.depth)"
   ]
  },
  {
   "cell_type": "markdown",
   "metadata": {},
   "source": [
    "A Pipeline is an Estimator. Thus, after a Pipeline’s fit() method runs, it produces a PipelineModel, which is a Transformer. "
   ]
  },
  {
   "cell_type": "markdown",
   "metadata": {},
   "source": [
    "![](https://spark.apache.org/docs/latest/img/ml-PipelineModel.png)"
   ]
  },
  {
   "cell_type": "markdown",
   "metadata": {},
   "source": [
    "In the figure above, the PipelineModel has the same number of stages as the original Pipeline, but all Estimators in the original Pipeline have become Transformers. When the PipelineModel’s transform() method is called on a test dataset, the data are passed through the fitted pipeline in order. Each stage’s transform() method updates the dataset and passes it to the next stage.\n",
    "\n",
    "Pipelines and PipelineModels help to ensure that training and test data go through identical feature processing steps.\n",
    "\n"
   ]
  },
  {
   "cell_type": "markdown",
   "metadata": {},
   "source": [
    "Use test set here to transform features and measure the accuracy of our model on test data.\n",
    "\n",
    "Print schema of the prediction set to see what's in it and see the model's predictions and probabilities of each class."
   ]
  },
  {
   "cell_type": "code",
   "execution_count": 33,
   "metadata": {
    "collapsed": true
   },
   "outputs": [],
   "source": [
    "predictions = dtModel.transform(test)"
   ]
  },
  {
   "cell_type": "code",
   "execution_count": 34,
   "metadata": {},
   "outputs": [
    {
     "name": "stdout",
     "output_type": "stream",
     "text": [
      "root\n",
      " |-- Record_No: integer (nullable = true)\n",
      " |-- IAAF_code: integer (nullable = true)\n",
      " |-- Name: string (nullable = true)\n",
      " |-- Date_of_birth: string (nullable = true)\n",
      " |-- Date: string (nullable = true)\n",
      " |-- Place: string (nullable = true)\n",
      " |-- Discipline: string (nullable = true)\n",
      " |-- Performance: string (nullable = true)\n",
      " |-- perf_millisecs: integer (nullable = true)\n",
      " |-- month: integer (nullable = true)\n",
      " |-- race_metre: integer (nullable = true)\n",
      " |-- age: integer (nullable = true)\n",
      " |-- DisciplineIndex: double (nullable = false)\n",
      " |-- label: double (nullable = false)\n",
      " |-- features: vector (nullable = true)\n",
      " |-- rawPrediction: vector (nullable = true)\n",
      " |-- probability: vector (nullable = true)\n",
      " |-- prediction: double (nullable = false)\n",
      "\n"
     ]
    }
   ],
   "source": [
    "predictions.printSchema()"
   ]
  },
  {
   "cell_type": "code",
   "execution_count": 35,
   "metadata": {},
   "outputs": [
    {
     "name": "stdout",
     "output_type": "stream",
     "text": [
      "+--------------------+--------------+-----+----------+--------------------+\n",
      "|                Name|perf_millisecs|label|prediction|         probability|\n",
      "+--------------------+--------------+-----+----------+--------------------+\n",
      "|     Deme Tadu ABATE|       3681000|251.0|       4.0|[0.00476190476190...|\n",
      "|   Azzouzi ABDELAZIZ|       3867000|168.0|       4.0|[0.00476190476190...|\n",
      "|Ihab Salama ABDELLAH|       5341000|795.0|       4.0|[0.00476190476190...|\n",
      "|Ihab Salama ABDELLAH|       4118000|351.0|       4.0|[0.00476190476190...|\n",
      "|     Abdi ABDIRAHMAN|       3798000|159.0|      16.0|[0.0,0.0,0.001686...|\n",
      "|     Abdi ABDIRAHMAN|       3859000| 96.0|      16.0|[0.0,0.0,0.001686...|\n",
      "|     Abdi ABDIRAHMAN|       3766000|323.0|     143.0|[0.0,0.0065934065...|\n",
      "|          Ali ABDOSH|       3831000|110.0|       4.0|[0.00476190476190...|\n",
      "|          Ali ABDOSH|       3816000| 47.0|       4.0|[0.00476190476190...|\n",
      "|          Hiroki ABE|       3808000| 27.0|       4.0|[0.00476190476190...|\n",
      "|         Tatsumi ABE|       3926000|187.0|       4.0|[0.00476190476190...|\n",
      "|            Yuki ABE|       3891000|108.0|      19.0|[0.00736648250460...|\n",
      "|            Yuki ABE|       3732000| 95.0|       4.0|[0.00476190476190...|\n",
      "|            Yuki ABE|       3764000|117.0|       4.0|[0.00476190476190...|\n",
      "|         Addis ABEBE|       3760000|122.0|       4.0|[0.00476190476190...|\n",
      "|        Marcus ABERG|       4036000|290.0|       4.0|[0.00476190476190...|\n",
      "|Hicham ABOU EL ABBAS|       4052000|115.0|       4.0|[0.00476190476190...|\n",
      "|      Adhanom ABRAHA|       3830000| 42.0|      16.0|[0.0,0.0,0.001686...|\n",
      "|      Adhanom ABRAHA|       3733000|374.0|     143.0|[0.0,0.0065934065...|\n",
      "|      Adhanom ABRAHA|       3767000| 24.0|     143.0|[0.0,0.0065934065...|\n",
      "+--------------------+--------------+-----+----------+--------------------+\n",
      "only showing top 20 rows\n",
      "\n"
     ]
    }
   ],
   "source": [
    "predictions.select(\"Name\", \"perf_millisecs\",\"label\", \"prediction\", \"probability\").show()"
   ]
  },
  {
   "cell_type": "markdown",
   "metadata": {},
   "source": [
    "Evaluate the model with BinaryClassificationEvaluator, using evaluate() function."
   ]
  },
  {
   "cell_type": "code",
   "execution_count": 36,
   "metadata": {},
   "outputs": [
    {
     "data": {
      "text/plain": [
       "0.47488397488397494"
      ]
     },
     "execution_count": 36,
     "metadata": {},
     "output_type": "execute_result"
    }
   ],
   "source": [
    "from pyspark.ml.evaluation import BinaryClassificationEvaluator\n",
    "\n",
    "# Evaluate model\n",
    "evaluator = BinaryClassificationEvaluator()\n",
    "evaluator.evaluate(predictions)"
   ]
  },
  {
   "cell_type": "markdown",
   "metadata": {},
   "source": [
    "Define a grid of hyperparameters to test:\n",
    " - maxDepth: max depth of each decision tree\n",
    " - maxIter: iterations (number of trees)\n",
    " \n",
    "These values are small now since it always take long time to train the cross validator. To get higher accuracy, I will try deeper trees (10 or higher) and more trees in the ensemble (>100)."
   ]
  },
  {
   "cell_type": "code",
   "execution_count": 37,
   "metadata": {
    "collapsed": true
   },
   "outputs": [],
   "source": [
    "from pyspark.ml.tuning import ParamGridBuilder, CrossValidator\n",
    "# Code reference :https://docs.databricks.com/spark/latest/mllib/binary-classification-mllib-pipelines.html\n",
    "paramGrid = (ParamGridBuilder()\n",
    "             .addGrid(dt.maxDepth, [2,5])\n",
    "             .addGrid(dt.maxBins, [10,100])\n",
    "             .build())"
   ]
  },
  {
   "cell_type": "markdown",
   "metadata": {},
   "source": [
    "Create a 2-fold Cross Validator and fit with training data. Then transform the feature with testing data."
   ]
  },
  {
   "cell_type": "code",
   "execution_count": 38,
   "metadata": {
    "collapsed": true
   },
   "outputs": [],
   "source": [
    "# Code reference :https://docs.databricks.com/spark/latest/mllib/binary-classification-mllib-pipelines.html\n",
    "cv = CrossValidator(estimator=dt, estimatorParamMaps=paramGrid, evaluator=evaluator, numFolds=2)\n",
    "# Run cross validations\n",
    "cvModel = cv.fit(train)"
   ]
  },
  {
   "cell_type": "code",
   "execution_count": 39,
   "metadata": {
    "collapsed": true
   },
   "outputs": [],
   "source": [
    "predictions = cvModel.transform(test)"
   ]
  },
  {
   "cell_type": "markdown",
   "metadata": {},
   "source": [
    "Evaluate the cross validator model and see the accuracy."
   ]
  },
  {
   "cell_type": "code",
   "execution_count": 40,
   "metadata": {},
   "outputs": [
    {
     "data": {
      "text/plain": [
       "0.5023205023205023"
      ]
     },
     "execution_count": 40,
     "metadata": {},
     "output_type": "execute_result"
    }
   ],
   "source": [
    "evaluator.evaluate(predictions)"
   ]
  },
  {
   "cell_type": "markdown",
   "metadata": {},
   "source": [
    "Create a new dataframe with all the name and id which ordered by the prediction, this is the rank of all the athletes."
   ]
  },
  {
   "cell_type": "code",
   "execution_count": 41,
   "metadata": {},
   "outputs": [
    {
     "name": "stdout",
     "output_type": "stream",
     "text": [
      "+---------+--------------------+\n",
      "|IAAF_code|                Name|\n",
      "+---------+--------------------+\n",
      "|   274455|     Tadashi ISSHIKI|\n",
      "|   309212| Gabriel Gerald GEAY|\n",
      "|   274455|     Tadashi ISSHIKI|\n",
      "|   325594|   Soufiane BOUICHOU|\n",
      "|   273428|         Ismail JUMA|\n",
      "|   251222|      Takashi ICHIDA|\n",
      "|   272039|        Hiroto INOUE|\n",
      "|   397727|         Nanami ARAI|\n",
      "|   279202|       Hicham BOFARS|\n",
      "|   246265|Abdelmajid EL HIS...|\n",
      "|   374064|   Francisco ESTÉVEZ|\n",
      "|   334669|        Joao ANTUNES|\n",
      "|   314976|      Hidaka HAYASHI|\n",
      "|   384023|         Cihat İLHAN|\n",
      "|   342628| Fetene ALEMU REGASA|\n",
      "|   251832|        Yuki ARIMURA|\n",
      "|   254658|       Belete ASSEFA|\n",
      "|   254661|     Yekeber BAYABEL|\n",
      "|   185831|       Elijah BIRGEN|\n",
      "|   310866|          Hiroki ABE|\n",
      "+---------+--------------------+\n",
      "only showing top 20 rows\n",
      "\n"
     ]
    }
   ],
   "source": [
    "# predictions.where(predictions['race_metre'] == 21098).where(predictions['month'] == 3).select('Name', 'perf_millisecs',\"label\", \"prediction\", \"probability\").orderBy('prediction').show(50)\n",
    "# all_name = predictions_full.where(predictions_full['race_metre'] == 21098).where(predictions['month'] == 3).select('IAAF_code','Name').orderBy('prediction')\n",
    "\n",
    "\n",
    "all_name = predictions.select('IAAF_code','Name').orderBy('prediction')\n",
    "all_name.show()"
   ]
  },
  {
   "cell_type": "markdown",
   "metadata": {},
   "source": [
    "Create a new dataframe join the participated id list and the name and id list above to filter out the athletes who has attend this competition. And this is the final list of the prediction."
   ]
  },
  {
   "cell_type": "code",
   "execution_count": 42,
   "metadata": {},
   "outputs": [
    {
     "name": "stdout",
     "output_type": "stream",
     "text": [
      "+--------------------+\n",
      "|                Name|\n",
      "+--------------------+\n",
      "|  Jean-Pierre CASTRO|\n",
      "|    Ser-Od BAT-OCHIR|\n",
      "|    Abraham CHEROBEN|\n",
      "|         Roman FOSTI|\n",
      "|     Thomas DO CANTO|\n",
      "|         Sergio DIAS|\n",
      "|     Melikhaya FRANS|\n",
      "|       Diego ESTRADA|\n",
      "|       Noel HITIMANA|\n",
      "|        Jiří HOMOLÁČ|\n",
      "|      Antoni BERNADÓ|\n",
      "|Yoseph-Fabien GOA...|\n",
      "|        Aweke AYALEW|\n",
      "|El Hassan EL ABBASSI|\n",
      "|    Valdas DOPOLSKAS|\n",
      "|       Leslie ENCINA|\n",
      "|    Afewerki BERHANE|\n",
      "|        David GAKURU|\n",
      "|       Evan ESSELINK|\n",
      "|        Derlys AYALA|\n",
      "|    Jesper FAURSCHOU|\n",
      "|        Peter HERZOG|\n",
      "|   Abdelaziz GUERZIZ|\n",
      "|      Sergiu CIOBANU|\n",
      "|  Leule GEBRSELASSIE|\n",
      "|   Juan Luis BARRIOS|\n",
      "|        Elroy GELANT|\n",
      "|       Mikael EKVALL|\n",
      "|Miguel Ángel BARZOLA|\n",
      "|   Benjamin CHOQUERT|\n",
      "|Francesc Josep CA...|\n",
      "|          Felix BOUR|\n",
      "|       Nguse AMLOSOM|\n",
      "|   Olivier IRABARUTA|\n",
      "|Jonathan ATSE HER...|\n",
      "+--------------------+\n",
      "\n"
     ]
    }
   ],
   "source": [
    "predictionList = all_name.join(idData,'IAAF_code').select('Name').distinct()\n",
    "# # predictionList.count()\n",
    "predictionList.show(50)"
   ]
  },
  {
   "cell_type": "markdown",
   "metadata": {},
   "source": [
    "Code Reference:\n",
    "\n",
    "http://spark.apache.org/docs/2.1.0/api/python/pyspark.sql.html\n",
    "\n",
    "https://docs.databricks.com/spark/latest/mllib/binary-classification-mllib-pipelines.html"
   ]
  },
  {
   "cell_type": "markdown",
   "metadata": {
    "collapsed": true
   },
   "source": [
    "# License (MIT)"
   ]
  },
  {
   "cell_type": "markdown",
   "metadata": {},
   "source": [
    "Copyright (c) 2018 by Ruofan Lyu\n",
    "\n",
    "Permission is hereby granted, free of charge, to any person obtaining a copy of this software and associated documentation files (the \"Software\"), to deal in the Software without restriction, including without limitation the rights to use, copy, modify, merge, publish, distribute, sublicense, and/or sell copies of the Software, and to permit persons to whom the Software is furnished to do so, subject to the following conditions:\n",
    "\n",
    "The above copyright notice and this permission notice shall be included in all copies or substantial portions of the Software.\n",
    "\n",
    "THE SOFTWARE IS PROVIDED \"AS IS\", WITHOUT WARRANTY OF ANY KIND, EXPRESS OR IMPLIED, INCLUDING BUT NOT LIMITED TO THE WARRANTIES OF MERCHANTABILITY, FITNESS FOR A PARTICULAR PURPOSE AND NONINFRINGEMENT. IN NO EVENT SHALL THE AUTHORS OR COPYRIGHT HOLDERS BE LIABLE FOR ANY CLAIM, DAMAGES OR OTHER LIABILITY, WHETHER IN AN ACTION OF CONTRACT, TORT OR OTHERWISE, ARISING FROM, OUT OF OR IN CONNECTION WITH THE SOFTWARE OR THE USE OR OTHER DEALINGS IN THE SOFTWARE."
   ]
  },
  {
   "cell_type": "markdown",
   "metadata": {},
   "source": [
    "# License (CC)"
   ]
  },
  {
   "cell_type": "markdown",
   "metadata": {
    "collapsed": true
   },
   "source": [
    "This work is licensed under the Creative Commons Attribution 3.0 United States License. To view a copy of this license, visit http://creativecommons.org/licenses/by/3.0/us/ or send a letter to Creative Commons, PO Box 1866, Mountain View, CA 94042, USA."
   ]
  }
 ],
 "metadata": {
  "kernelspec": {
   "display_name": "Python 3",
   "language": "python",
   "name": "python3"
  },
  "language_info": {
   "codemirror_mode": {
    "name": "ipython",
    "version": 3
   },
   "file_extension": ".py",
   "mimetype": "text/x-python",
   "name": "python",
   "nbconvert_exporter": "python",
   "pygments_lexer": "ipython3",
   "version": "3.6.3"
  }
 },
 "nbformat": 4,
 "nbformat_minor": 2
}
